{
 "cells": [
  {
   "cell_type": "code",
   "execution_count": 50,
   "id": "16ece804",
   "metadata": {},
   "outputs": [],
   "source": [
    "import requests\n",
    "from bs4 import BeautifulSoup\n",
    "\n",
    "import pandas as pd\n",
    "import numpy as np\n",
    "import regex as re"
   ]
  },
  {
   "cell_type": "code",
   "execution_count": 135,
   "id": "1e2b7e63",
   "metadata": {},
   "outputs": [],
   "source": [
    "!spacy download en_core_web_sm"
   ]
  },
  {
   "cell_type": "code",
   "execution_count": 41,
   "id": "75a8fdb4",
   "metadata": {},
   "outputs": [],
   "source": [
    "main_url = 'https://www.beeradvocate.com/beer/top-rated/'"
   ]
  },
  {
   "cell_type": "code",
   "execution_count": 42,
   "id": "a746daa1",
   "metadata": {},
   "outputs": [],
   "source": [
    "r = requests.get(main_url)\n",
    "soup = BeautifulSoup(r.text, 'html.parser')"
   ]
  },
  {
   "cell_type": "code",
   "execution_count": 43,
   "id": "65c83097",
   "metadata": {},
   "outputs": [
    {
     "name": "stdout",
     "output_type": "stream",
     "text": [
      "250\n",
      "['https://www.beeradvocate.com/beer/profile/23222/78820/', 'https://www.beeradvocate.com/beer/profile/26/42349/', 'https://www.beeradvocate.com/beer/profile/17981/110635/', 'https://www.beeradvocate.com/beer/profile/25888/87246/', 'https://www.beeradvocate.com/beer/profile/46317/16814/']\n"
     ]
    }
   ],
   "source": [
    "links = []\n",
    "table_items = soup.find_all('tr')\n",
    "for item in table_items:\n",
    "    if item.find('a'):\n",
    "        url = 'https://www.beeradvocate.com' + item.find('a')['href']\n",
    "        links = links + [url]\n",
    "\n",
    "n = len(links)\n",
    "print(n)\n",
    "print(links[:5])"
   ]
  },
  {
   "cell_type": "code",
   "execution_count": 128,
   "id": "2b8f4bce",
   "metadata": {},
   "outputs": [],
   "source": [
    "def clean_title(string):\n",
    "    string = string.replace('\\n', ' ').replace('<br>', \"\")\n",
    "    string = re.sub(r'[^\\w]', ' ', string)\n",
    "    \n",
    "    return string"
   ]
  },
  {
   "cell_type": "code",
   "execution_count": 131,
   "id": "372c9272",
   "metadata": {},
   "outputs": [
    {
     "data": {
      "text/html": [
       "<div>\n",
       "<style scoped>\n",
       "    .dataframe tbody tr th:only-of-type {\n",
       "        vertical-align: middle;\n",
       "    }\n",
       "\n",
       "    .dataframe tbody tr th {\n",
       "        vertical-align: top;\n",
       "    }\n",
       "\n",
       "    .dataframe thead th {\n",
       "        text-align: right;\n",
       "    }\n",
       "</style>\n",
       "<table border=\"1\" class=\"dataframe\">\n",
       "  <thead>\n",
       "    <tr style=\"text-align: right;\">\n",
       "      <th></th>\n",
       "      <th>product_name</th>\n",
       "      <th>product_review</th>\n",
       "      <th>user_rating</th>\n",
       "    </tr>\n",
       "  </thead>\n",
       "  <tbody>\n",
       "    <tr>\n",
       "      <th>0</th>\n",
       "      <td>Kentucky Brunch Brand Stout</td>\n",
       "      <td>2020 vintage acquired during the pandemic  It ...</td>\n",
       "      <td>5.00</td>\n",
       "    </tr>\n",
       "    <tr>\n",
       "      <th>1</th>\n",
       "      <td>Kentucky Brunch Brand Stout</td>\n",
       "      <td>Long time waiting to tick this one  and I have...</td>\n",
       "      <td>4.56</td>\n",
       "    </tr>\n",
       "    <tr>\n",
       "      <th>2</th>\n",
       "      <td>Kentucky Brunch Brand Stout</td>\n",
       "      <td>This review is for the 2019 batch  It was bott...</td>\n",
       "      <td>5.00</td>\n",
       "    </tr>\n",
       "    <tr>\n",
       "      <th>3</th>\n",
       "      <td>Kentucky Brunch Brand Stout</td>\n",
       "      <td>Supreme maple OD  Soooo easy drinking  amp  we...</td>\n",
       "      <td>5.00</td>\n",
       "    </tr>\n",
       "    <tr>\n",
       "      <th>4</th>\n",
       "      <td>Kentucky Brunch Brand Stout</td>\n",
       "      <td>I have now had 4 different years of KBBS and c...</td>\n",
       "      <td>5.00</td>\n",
       "    </tr>\n",
       "    <tr>\n",
       "      <th>...</th>\n",
       "      <td>...</td>\n",
       "      <td>...</td>\n",
       "      <td>...</td>\n",
       "    </tr>\n",
       "    <tr>\n",
       "      <th>6215</th>\n",
       "      <td>The Streets</td>\n",
       "      <td>Had the good fortune to get 24 of these  Tried...</td>\n",
       "      <td>4.85</td>\n",
       "    </tr>\n",
       "    <tr>\n",
       "      <th>6216</th>\n",
       "      <td>The Streets</td>\n",
       "      <td>Incredible beer  Tasted from can  Robust aroma...</td>\n",
       "      <td>5.00</td>\n",
       "    </tr>\n",
       "    <tr>\n",
       "      <th>6217</th>\n",
       "      <td>The Streets</td>\n",
       "      <td>Cloudy orange appearance with white head that ...</td>\n",
       "      <td>4.52</td>\n",
       "    </tr>\n",
       "    <tr>\n",
       "      <th>6218</th>\n",
       "      <td>The Streets</td>\n",
       "      <td>Can dated 3 20 17  This is the third can consu...</td>\n",
       "      <td>4.75</td>\n",
       "    </tr>\n",
       "    <tr>\n",
       "      <th>6219</th>\n",
       "      <td>The Streets</td>\n",
       "      <td>Canned 3 20  could only imagine how if was fre...</td>\n",
       "      <td>4.84</td>\n",
       "    </tr>\n",
       "  </tbody>\n",
       "</table>\n",
       "<p>6220 rows × 3 columns</p>\n",
       "</div>"
      ],
      "text/plain": [
       "                      product_name  \\\n",
       "0      Kentucky Brunch Brand Stout   \n",
       "1      Kentucky Brunch Brand Stout   \n",
       "2      Kentucky Brunch Brand Stout   \n",
       "3      Kentucky Brunch Brand Stout   \n",
       "4      Kentucky Brunch Brand Stout   \n",
       "...                            ...   \n",
       "6215                   The Streets   \n",
       "6216                   The Streets   \n",
       "6217                   The Streets   \n",
       "6218                   The Streets   \n",
       "6219                   The Streets   \n",
       "\n",
       "                                         product_review  user_rating  \n",
       "0     2020 vintage acquired during the pandemic  It ...         5.00  \n",
       "1     Long time waiting to tick this one  and I have...         4.56  \n",
       "2     This review is for the 2019 batch  It was bott...         5.00  \n",
       "3     Supreme maple OD  Soooo easy drinking  amp  we...         5.00  \n",
       "4     I have now had 4 different years of KBBS and c...         5.00  \n",
       "...                                                 ...          ...  \n",
       "6215  Had the good fortune to get 24 of these  Tried...         4.85  \n",
       "6216  Incredible beer  Tasted from can  Robust aroma...         5.00  \n",
       "6217  Cloudy orange appearance with white head that ...         4.52  \n",
       "6218  Can dated 3 20 17  This is the third can consu...         4.75  \n",
       "6219  Canned 3 20  could only imagine how if was fre...         4.84  \n",
       "\n",
       "[6220 rows x 3 columns]"
      ]
     },
     "execution_count": 131,
     "metadata": {},
     "output_type": "execute_result"
    }
   ],
   "source": [
    "reviews = pd.DataFrame(columns=['product_name','product_review', 'user_rating'])\n",
    "\n",
    "i = 0\n",
    "for link in links:\n",
    "    r = requests.get(link)\n",
    "    soup = BeautifulSoup(r.text, 'html.parser')\n",
    "    \n",
    "    product_name = soup.find('div', {'class':'titleBar'}).text\n",
    "    sub_tile = soup.find('div', {'class':'titleBar'}).find('span').text\n",
    "    product_name = product_name[:-len(sub_tile)-1]\n",
    "    product_name = clean_title(product_name)\n",
    "    \n",
    "    for review in soup.find_all('div', {'id':'rating_fullview_container'}):\n",
    "        review_text = clean_title(str(review).split('<br/>')[5])\n",
    "        user_rating = float(review.find('span', {'class': 'BAscore_norm'}).text)\n",
    "        reviews.loc[i] = [product_name, review_text, user_rating]\n",
    "        i += 1\n",
    "\n",
    "reviews"
   ]
  },
  {
   "cell_type": "code",
   "execution_count": 133,
   "id": "6577fe8c",
   "metadata": {},
   "outputs": [],
   "source": [
    "reviews.to_csv('reviews.csv', index=False)"
   ]
  }
 ],
 "metadata": {
  "kernelspec": {
   "display_name": "Python 3",
   "language": "python",
   "name": "python3"
  },
  "language_info": {
   "codemirror_mode": {
    "name": "ipython",
    "version": 3
   },
   "file_extension": ".py",
   "mimetype": "text/x-python",
   "name": "python",
   "nbconvert_exporter": "python",
   "pygments_lexer": "ipython3",
   "version": "3.8.8"
  },
  "varInspector": {
   "cols": {
    "lenName": 16,
    "lenType": 16,
    "lenVar": 40
   },
   "kernels_config": {
    "python": {
     "delete_cmd_postfix": "",
     "delete_cmd_prefix": "del ",
     "library": "var_list.py",
     "varRefreshCmd": "print(var_dic_list())"
    },
    "r": {
     "delete_cmd_postfix": ") ",
     "delete_cmd_prefix": "rm(",
     "library": "var_list.r",
     "varRefreshCmd": "cat(var_dic_list()) "
    }
   },
   "types_to_exclude": [
    "module",
    "function",
    "builtin_function_or_method",
    "instance",
    "_Feature"
   ],
   "window_display": false
  }
 },
 "nbformat": 4,
 "nbformat_minor": 5
}
